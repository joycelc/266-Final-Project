{
 "cells": [
  {
   "cell_type": "code",
   "execution_count": 8,
   "metadata": {
    "id": "81SA4ILCy8zo"
   },
   "outputs": [
    {
     "name": "stdout",
     "output_type": "stream",
     "text": [
      "Requirement already satisfied: torch in /home/joycelc/anaconda3/lib/python3.8/site-packages (from -r requirements.txt (line 1)) (1.8.1)\n",
      "Requirement already satisfied: pytorch-ignite in /home/joycelc/anaconda3/lib/python3.8/site-packages (from -r requirements.txt (line 2)) (0.4.4)\n",
      "Requirement already satisfied: transformers==2.5.1 in /home/joycelc/anaconda3/lib/python3.8/site-packages (from -r requirements.txt (line 3)) (2.5.1)\n",
      "Requirement already satisfied: tensorboardX==1.8 in /home/joycelc/anaconda3/lib/python3.8/site-packages (from -r requirements.txt (line 4)) (1.8)\n",
      "Requirement already satisfied: tensorflow in /home/joycelc/anaconda3/lib/python3.8/site-packages (from -r requirements.txt (line 5)) (2.3.0)\n",
      "Requirement already satisfied: spacy in /home/joycelc/anaconda3/lib/python3.8/site-packages (from -r requirements.txt (line 6)) (3.0.5)\n",
      "Requirement already satisfied: protobuf>=3.2.0 in /home/joycelc/anaconda3/lib/python3.8/site-packages (from tensorboardX==1.8->-r requirements.txt (line 4)) (3.14.0)\n",
      "Requirement already satisfied: numpy in /home/joycelc/anaconda3/lib/python3.8/site-packages (from tensorboardX==1.8->-r requirements.txt (line 4)) (1.18.5)\n",
      "Requirement already satisfied: six in /home/joycelc/anaconda3/lib/python3.8/site-packages (from tensorboardX==1.8->-r requirements.txt (line 4)) (1.15.0)\n",
      "Requirement already satisfied: tqdm>=4.27 in /home/joycelc/anaconda3/lib/python3.8/site-packages (from transformers==2.5.1->-r requirements.txt (line 3)) (4.47.0)\n",
      "Requirement already satisfied: requests in /home/joycelc/anaconda3/lib/python3.8/site-packages (from transformers==2.5.1->-r requirements.txt (line 3)) (2.24.0)\n",
      "Requirement already satisfied: regex!=2019.12.17 in /home/joycelc/anaconda3/lib/python3.8/site-packages (from transformers==2.5.1->-r requirements.txt (line 3)) (2020.6.8)\n",
      "Requirement already satisfied: filelock in /home/joycelc/anaconda3/lib/python3.8/site-packages (from transformers==2.5.1->-r requirements.txt (line 3)) (3.0.12)\n",
      "Requirement already satisfied: sacremoses in /home/joycelc/anaconda3/lib/python3.8/site-packages (from transformers==2.5.1->-r requirements.txt (line 3)) (0.0.43)\n",
      "Requirement already satisfied: boto3 in /home/joycelc/anaconda3/lib/python3.8/site-packages (from transformers==2.5.1->-r requirements.txt (line 3)) (1.17.39)\n",
      "Requirement already satisfied: tokenizers==0.5.2 in /home/joycelc/anaconda3/lib/python3.8/site-packages (from transformers==2.5.1->-r requirements.txt (line 3)) (0.5.2)\n",
      "Requirement already satisfied: sentencepiece in /home/joycelc/anaconda3/lib/python3.8/site-packages (from transformers==2.5.1->-r requirements.txt (line 3)) (0.1.95)\n",
      "Requirement already satisfied: typing-extensions in /home/joycelc/anaconda3/lib/python3.8/site-packages (from torch->-r requirements.txt (line 1)) (3.7.4.2)\n",
      "Requirement already satisfied: typer<0.4.0,>=0.3.0 in /home/joycelc/anaconda3/lib/python3.8/site-packages (from spacy->-r requirements.txt (line 6)) (0.3.2)\n",
      "Requirement already satisfied: packaging>=20.0 in /home/joycelc/anaconda3/lib/python3.8/site-packages (from spacy->-r requirements.txt (line 6)) (20.4)\n",
      "Requirement already satisfied: pydantic<1.8.0,>=1.7.1 in /home/joycelc/anaconda3/lib/python3.8/site-packages (from spacy->-r requirements.txt (line 6)) (1.7.3)\n",
      "Requirement already satisfied: thinc<8.1.0,>=8.0.2 in /home/joycelc/anaconda3/lib/python3.8/site-packages (from spacy->-r requirements.txt (line 6)) (8.0.2)\n",
      "Requirement already satisfied: srsly<3.0.0,>=2.4.0 in /home/joycelc/anaconda3/lib/python3.8/site-packages (from spacy->-r requirements.txt (line 6)) (2.4.0)\n",
      "Requirement already satisfied: jinja2 in /home/joycelc/anaconda3/lib/python3.8/site-packages (from spacy->-r requirements.txt (line 6)) (2.11.2)\n",
      "Requirement already satisfied: spacy-legacy<3.1.0,>=3.0.0 in /home/joycelc/anaconda3/lib/python3.8/site-packages (from spacy->-r requirements.txt (line 6)) (3.0.1)\n",
      "Requirement already satisfied: pathy>=0.3.5 in /home/joycelc/anaconda3/lib/python3.8/site-packages (from spacy->-r requirements.txt (line 6)) (0.4.0)\n",
      "Requirement already satisfied: murmurhash<1.1.0,>=0.28.0 in /home/joycelc/anaconda3/lib/python3.8/site-packages (from spacy->-r requirements.txt (line 6)) (1.0.5)\n",
      "Requirement already satisfied: preshed<3.1.0,>=3.0.2 in /home/joycelc/anaconda3/lib/python3.8/site-packages (from spacy->-r requirements.txt (line 6)) (3.0.5)\n",
      "Requirement already satisfied: catalogue<2.1.0,>=2.0.1 in /home/joycelc/anaconda3/lib/python3.8/site-packages (from spacy->-r requirements.txt (line 6)) (2.0.1)\n",
      "Requirement already satisfied: wasabi<1.1.0,>=0.8.1 in /home/joycelc/anaconda3/lib/python3.8/site-packages (from spacy->-r requirements.txt (line 6)) (0.8.2)\n",
      "Requirement already satisfied: setuptools in /home/joycelc/anaconda3/lib/python3.8/site-packages (from spacy->-r requirements.txt (line 6)) (49.2.0.post20200714)\n",
      "Requirement already satisfied: cymem<2.1.0,>=2.0.2 in /home/joycelc/anaconda3/lib/python3.8/site-packages (from spacy->-r requirements.txt (line 6)) (2.0.5)\n",
      "Requirement already satisfied: blis<0.8.0,>=0.4.0 in /home/joycelc/anaconda3/lib/python3.8/site-packages (from spacy->-r requirements.txt (line 6)) (0.7.4)\n",
      "Requirement already satisfied: pyparsing>=2.0.2 in /home/joycelc/anaconda3/lib/python3.8/site-packages (from packaging>=20.0->spacy->-r requirements.txt (line 6)) (2.4.7)\n",
      "Requirement already satisfied: smart-open<4.0.0,>=2.2.0 in /home/joycelc/anaconda3/lib/python3.8/site-packages (from pathy>=0.3.5->spacy->-r requirements.txt (line 6)) (3.0.0)\n",
      "Requirement already satisfied: idna<3,>=2.5 in /home/joycelc/anaconda3/lib/python3.8/site-packages (from requests->transformers==2.5.1->-r requirements.txt (line 3)) (2.10)\n",
      "Requirement already satisfied: urllib3!=1.25.0,!=1.25.1,<1.26,>=1.21.1 in /home/joycelc/anaconda3/lib/python3.8/site-packages (from requests->transformers==2.5.1->-r requirements.txt (line 3)) (1.25.9)\n",
      "Requirement already satisfied: chardet<4,>=3.0.2 in /home/joycelc/anaconda3/lib/python3.8/site-packages (from requests->transformers==2.5.1->-r requirements.txt (line 3)) (3.0.4)\n",
      "Requirement already satisfied: certifi>=2017.4.17 in /home/joycelc/anaconda3/lib/python3.8/site-packages (from requests->transformers==2.5.1->-r requirements.txt (line 3)) (2020.6.20)\n",
      "Requirement already satisfied: click<7.2.0,>=7.1.1 in /home/joycelc/anaconda3/lib/python3.8/site-packages (from typer<0.4.0,>=0.3.0->spacy->-r requirements.txt (line 6)) (7.1.2)\n",
      "Requirement already satisfied: tensorboard<3,>=2.3.0 in /home/joycelc/anaconda3/lib/python3.8/site-packages (from tensorflow->-r requirements.txt (line 5)) (2.4.0)\n",
      "Requirement already satisfied: scipy==1.4.1 in /home/joycelc/anaconda3/lib/python3.8/site-packages (from tensorflow->-r requirements.txt (line 5)) (1.4.1)\n",
      "Requirement already satisfied: wheel>=0.26 in /home/joycelc/anaconda3/lib/python3.8/site-packages (from tensorflow->-r requirements.txt (line 5)) (0.34.2)\n",
      "Requirement already satisfied: astunparse==1.6.3 in /home/joycelc/anaconda3/lib/python3.8/site-packages (from tensorflow->-r requirements.txt (line 5)) (1.6.3)\n",
      "Requirement already satisfied: tensorflow-estimator<2.4.0,>=2.3.0 in /home/joycelc/anaconda3/lib/python3.8/site-packages (from tensorflow->-r requirements.txt (line 5)) (2.3.0)\n",
      "Requirement already satisfied: absl-py>=0.7.0 in /home/joycelc/anaconda3/lib/python3.8/site-packages (from tensorflow->-r requirements.txt (line 5)) (0.11.0)\n",
      "Requirement already satisfied: google-pasta>=0.1.8 in /home/joycelc/anaconda3/lib/python3.8/site-packages (from tensorflow->-r requirements.txt (line 5)) (0.2.0)\n",
      "Requirement already satisfied: opt-einsum>=2.3.2 in /home/joycelc/anaconda3/lib/python3.8/site-packages (from tensorflow->-r requirements.txt (line 5)) (3.3.0)\n",
      "Requirement already satisfied: h5py<2.11.0,>=2.10.0 in /home/joycelc/anaconda3/lib/python3.8/site-packages (from tensorflow->-r requirements.txt (line 5)) (2.10.0)\n",
      "Requirement already satisfied: wrapt>=1.11.1 in /home/joycelc/anaconda3/lib/python3.8/site-packages (from tensorflow->-r requirements.txt (line 5)) (1.11.2)\n",
      "Requirement already satisfied: grpcio>=1.8.6 in /home/joycelc/anaconda3/lib/python3.8/site-packages (from tensorflow->-r requirements.txt (line 5)) (1.34.0)\n",
      "Requirement already satisfied: termcolor>=1.1.0 in /home/joycelc/anaconda3/lib/python3.8/site-packages (from tensorflow->-r requirements.txt (line 5)) (1.1.0)\n",
      "Requirement already satisfied: keras-preprocessing<1.2,>=1.1.1 in /home/joycelc/anaconda3/lib/python3.8/site-packages (from tensorflow->-r requirements.txt (line 5)) (1.1.2)\n",
      "Requirement already satisfied: gast==0.3.3 in /home/joycelc/anaconda3/lib/python3.8/site-packages (from tensorflow->-r requirements.txt (line 5)) (0.3.3)\n"
     ]
    },
    {
     "name": "stdout",
     "output_type": "stream",
     "text": [
      "Requirement already satisfied: tensorboard-plugin-wit>=1.6.0 in /home/joycelc/anaconda3/lib/python3.8/site-packages (from tensorboard<3,>=2.3.0->tensorflow->-r requirements.txt (line 5)) (1.7.0)\n",
      "Requirement already satisfied: google-auth<2,>=1.6.3 in /home/joycelc/anaconda3/lib/python3.8/site-packages (from tensorboard<3,>=2.3.0->tensorflow->-r requirements.txt (line 5)) (1.24.0)\n",
      "Requirement already satisfied: google-auth-oauthlib<0.5,>=0.4.1 in /home/joycelc/anaconda3/lib/python3.8/site-packages (from tensorboard<3,>=2.3.0->tensorflow->-r requirements.txt (line 5)) (0.4.2)\n",
      "Requirement already satisfied: werkzeug>=0.11.15 in /home/joycelc/anaconda3/lib/python3.8/site-packages (from tensorboard<3,>=2.3.0->tensorflow->-r requirements.txt (line 5)) (1.0.1)\n",
      "Requirement already satisfied: markdown>=2.6.8 in /home/joycelc/anaconda3/lib/python3.8/site-packages (from tensorboard<3,>=2.3.0->tensorflow->-r requirements.txt (line 5)) (3.3.3)\n",
      "Requirement already satisfied: cachetools<5.0,>=2.0.0 in /home/joycelc/anaconda3/lib/python3.8/site-packages (from google-auth<2,>=1.6.3->tensorboard<3,>=2.3.0->tensorflow->-r requirements.txt (line 5)) (4.2.0)\n",
      "Requirement already satisfied: pyasn1-modules>=0.2.1 in /home/joycelc/anaconda3/lib/python3.8/site-packages (from google-auth<2,>=1.6.3->tensorboard<3,>=2.3.0->tensorflow->-r requirements.txt (line 5)) (0.2.8)\n",
      "Requirement already satisfied: rsa<5,>=3.1.4 in /home/joycelc/anaconda3/lib/python3.8/site-packages (from google-auth<2,>=1.6.3->tensorboard<3,>=2.3.0->tensorflow->-r requirements.txt (line 5)) (4.6)\n",
      "Requirement already satisfied: requests-oauthlib>=0.7.0 in /home/joycelc/anaconda3/lib/python3.8/site-packages (from google-auth-oauthlib<0.5,>=0.4.1->tensorboard<3,>=2.3.0->tensorflow->-r requirements.txt (line 5)) (1.3.0)\n",
      "Requirement already satisfied: pyasn1<0.5.0,>=0.4.6 in /home/joycelc/anaconda3/lib/python3.8/site-packages (from pyasn1-modules>=0.2.1->google-auth<2,>=1.6.3->tensorboard<3,>=2.3.0->tensorflow->-r requirements.txt (line 5)) (0.4.8)\n",
      "Requirement already satisfied: oauthlib>=3.0.0 in /home/joycelc/anaconda3/lib/python3.8/site-packages (from requests-oauthlib>=0.7.0->google-auth-oauthlib<0.5,>=0.4.1->tensorboard<3,>=2.3.0->tensorflow->-r requirements.txt (line 5)) (3.1.0)\n",
      "Requirement already satisfied: botocore<1.21.0,>=1.20.39 in /home/joycelc/anaconda3/lib/python3.8/site-packages (from boto3->transformers==2.5.1->-r requirements.txt (line 3)) (1.20.39)\n",
      "Requirement already satisfied: s3transfer<0.4.0,>=0.3.0 in /home/joycelc/anaconda3/lib/python3.8/site-packages (from boto3->transformers==2.5.1->-r requirements.txt (line 3)) (0.3.6)\n",
      "Requirement already satisfied: jmespath<1.0.0,>=0.7.1 in /home/joycelc/anaconda3/lib/python3.8/site-packages (from boto3->transformers==2.5.1->-r requirements.txt (line 3)) (0.10.0)\n",
      "Requirement already satisfied: python-dateutil<3.0.0,>=2.1 in /home/joycelc/anaconda3/lib/python3.8/site-packages (from botocore<1.21.0,>=1.20.39->boto3->transformers==2.5.1->-r requirements.txt (line 3)) (2.8.1)\n",
      "Requirement already satisfied: MarkupSafe>=0.23 in /home/joycelc/anaconda3/lib/python3.8/site-packages (from jinja2->spacy->-r requirements.txt (line 6)) (1.1.1)\n",
      "Requirement already satisfied: joblib in /home/joycelc/anaconda3/lib/python3.8/site-packages (from sacremoses->transformers==2.5.1->-r requirements.txt (line 3)) (0.16.0)\n",
      "\u001b[33mWARNING: You are using pip version 20.3.3; however, version 21.0.1 is available.\n",
      "You should consider upgrading via the '/home/joycelc/anaconda3/bin/python -m pip install --upgrade pip' command.\u001b[0m\n"
     ]
    }
   ],
   "source": [
    "!pip install -r requirements.txt"
   ]
  },
  {
   "cell_type": "code",
   "execution_count": 2,
   "metadata": {
    "id": "oHH-YLsX0-Mw"
   },
   "outputs": [
    {
     "name": "stdout",
     "output_type": "stream",
     "text": [
      "2021-03-29 18:14:32.334093: W tensorflow/stream_executor/platform/default/dso_loader.cc:59] Could not load dynamic library 'libcudart.so.10.1'; dlerror: libcudart.so.10.1: cannot open shared object file: No such file or directory\n",
      "2021-03-29 18:14:32.334223: I tensorflow/stream_executor/cuda/cudart_stub.cc:29] Ignore above cudart dlerror if you do not have a GPU set up on your machine.\n",
      "INFO:interact.py:Namespace(dataset_cache='./dataset_cache', dataset_path='', device='cpu', max_history=2, max_length=20, min_length=1, model='openai-gpt', model_checkpoint='', no_sample=False, seed=0, temperature=0.7, top_k=0, top_p=0.9)\n",
      "INFO:filelock:Lock 139858508041280 acquired on /home/joycelc/.cache/torch/transformers/2f5114b5eb72f9515802779c42c1b289bebdb1cfc8ce94c653237518eb530b34.75f2a4fe69178ff43138117a977e107a5fc7d402603a0825a296b531f246b3f2.lock\n",
      "INFO:transformers.file_utils:https://s3.amazonaws.com/models.huggingface.co/transfer-learning-chatbot/gpt_personachat_cache.tar.gz not found in cache or force_download set to True, downloading to /home/joycelc/.cache/torch/transformers/tmp692n85hn\n",
      "Downloading: 100%|███████████████████████████| 434M/434M [00:11<00:00, 36.3MB/s]\n",
      "INFO:transformers.file_utils:storing https://s3.amazonaws.com/models.huggingface.co/transfer-learning-chatbot/gpt_personachat_cache.tar.gz in cache at /home/joycelc/.cache/torch/transformers/2f5114b5eb72f9515802779c42c1b289bebdb1cfc8ce94c653237518eb530b34.75f2a4fe69178ff43138117a977e107a5fc7d402603a0825a296b531f246b3f2\n",
      "INFO:transformers.file_utils:creating metadata file for /home/joycelc/.cache/torch/transformers/2f5114b5eb72f9515802779c42c1b289bebdb1cfc8ce94c653237518eb530b34.75f2a4fe69178ff43138117a977e107a5fc7d402603a0825a296b531f246b3f2\n",
      "INFO:filelock:Lock 139858508041280 released on /home/joycelc/.cache/torch/transformers/2f5114b5eb72f9515802779c42c1b289bebdb1cfc8ce94c653237518eb530b34.75f2a4fe69178ff43138117a977e107a5fc7d402603a0825a296b531f246b3f2.lock\n",
      "INFO:/home/joycelc/266-Final-Project/utils.py:extracting archive file /home/joycelc/.cache/torch/transformers/2f5114b5eb72f9515802779c42c1b289bebdb1cfc8ce94c653237518eb530b34.75f2a4fe69178ff43138117a977e107a5fc7d402603a0825a296b531f246b3f2 to temp dir /tmp/tmpc6ujaa8j\n",
      "INFO:interact.py:Get pretrained model and tokenizer\n",
      "INFO:transformers.tokenization_utils:Model name '/tmp/tmpc6ujaa8j' not found in model shortcut name list (openai-gpt). Assuming '/tmp/tmpc6ujaa8j' is a path, a model identifier, or url to a directory containing tokenizer files.\n",
      "INFO:transformers.tokenization_utils:Didn't find file /tmp/tmpc6ujaa8j/special_tokens_map.json. We won't load it.\n",
      "INFO:transformers.tokenization_utils:Didn't find file /tmp/tmpc6ujaa8j/tokenizer_config.json. We won't load it.\n",
      "INFO:transformers.tokenization_utils:loading file /tmp/tmpc6ujaa8j/vocab.json\n",
      "INFO:transformers.tokenization_utils:loading file /tmp/tmpc6ujaa8j/merges.txt\n",
      "INFO:transformers.tokenization_utils:loading file /tmp/tmpc6ujaa8j/added_tokens.json\n",
      "INFO:transformers.tokenization_utils:loading file None\n",
      "INFO:transformers.tokenization_utils:loading file None\n",
      "WARNING:transformers.tokenization_openai:ftfy or spacy is not installed using BERT BasicTokenizer instead of SpaCy & ftfy.\n",
      "INFO:transformers.configuration_utils:loading configuration file /tmp/tmpc6ujaa8j/config.json\n",
      "INFO:transformers.configuration_utils:Model config OpenAIGPTConfig {\n",
      "  \"afn\": \"gelu\",\n",
      "  \"architectures\": null,\n",
      "  \"attn_pdrop\": 0.1,\n",
      "  \"bos_token_id\": null,\n",
      "  \"do_sample\": false,\n",
      "  \"embd_pdrop\": 0.1,\n",
      "  \"eos_token_ids\": null,\n",
      "  \"finetuning_task\": null,\n",
      "  \"id2label\": {\n",
      "    \"0\": \"LABEL_0\",\n",
      "    \"1\": \"LABEL_1\"\n",
      "  },\n",
      "  \"initializer_range\": 0.02,\n",
      "  \"is_decoder\": false,\n",
      "  \"label2id\": {\n",
      "    \"LABEL_0\": 0,\n",
      "    \"LABEL_1\": 1\n",
      "  },\n",
      "  \"layer_norm_epsilon\": 1e-05,\n",
      "  \"length_penalty\": 1.0,\n",
      "  \"max_length\": 20,\n",
      "  \"model_type\": \"openai-gpt\",\n",
      "  \"n_ctx\": 512,\n",
      "  \"n_embd\": 768,\n",
      "  \"n_head\": 12,\n",
      "  \"n_layer\": 12,\n",
      "  \"n_positions\": 512,\n",
      "  \"n_special\": 5,\n",
      "  \"num_beams\": 1,\n",
      "  \"num_labels\": 2,\n",
      "  \"num_return_sequences\": 1,\n",
      "  \"output_attentions\": false,\n",
      "  \"output_hidden_states\": false,\n",
      "  \"output_past\": true,\n",
      "  \"pad_token_id\": null,\n",
      "  \"predict_special_tokens\": true,\n",
      "  \"pruned_heads\": {},\n",
      "  \"repetition_penalty\": 1.0,\n",
      "  \"resid_pdrop\": 0.1,\n",
      "  \"summary_activation\": null,\n",
      "  \"summary_first_dropout\": 0.1,\n",
      "  \"summary_proj_to_labels\": true,\n",
      "  \"summary_type\": \"cls_index\",\n",
      "  \"summary_use_proj\": true,\n",
      "  \"temperature\": 1.0,\n",
      "  \"top_k\": 50,\n",
      "  \"top_p\": 1.0,\n",
      "  \"torchscript\": false,\n",
      "  \"use_bfloat16\": false,\n",
      "  \"vocab_size\": 40483\n",
      "}\n",
      "\n",
      "INFO:transformers.modeling_utils:loading weights file /tmp/tmpc6ujaa8j/pytorch_model.bin\n",
      "INFO:transformers.modeling_utils:Weights from pretrained model not used in OpenAIGPTLMHeadModel: ['multiple_choice_head.summary.weight', 'multiple_choice_head.summary.bias']\n",
      "INFO:transformers.tokenization_utils:Assigning <bos> to the bos_token key of the tokenizer\n",
      "INFO:transformers.tokenization_utils:Assigning <eos> to the eos_token key of the tokenizer\n",
      "INFO:transformers.tokenization_utils:Assigning <pad> to the pad_token key of the tokenizer\n",
      "INFO:transformers.tokenization_utils:Assigning ['<speaker1>', '<speaker2>'] to the additional_special_tokens key of the tokenizer\n",
      "INFO:interact.py:Sample a personality\n",
      "INFO:/home/joycelc/266-Final-Project/utils.py:Download dataset from https://s3.amazonaws.com/datasets.huggingface.co/personachat/personachat_self_original.json\n",
      "INFO:filelock:Lock 139858419715856 acquired on /home/joycelc/.cache/torch/transformers/a6af0e86c91c9dc9b342b96c59adf0d1a4a7dc602d94b01ad47e0bfd19266632.bb42905dd6e1098e87c24845469ee12018cfd142e10fcc50f97b28e002a9ac02.lock\n",
      "INFO:transformers.file_utils:https://s3.amazonaws.com/datasets.huggingface.co/personachat/personachat_self_original.json not found in cache or force_download set to True, downloading to /home/joycelc/.cache/torch/transformers/tmpufigq13k\n",
      "Downloading: 100%|███████████████████████████| 210M/210M [00:05<00:00, 36.7MB/s]\n",
      "INFO:transformers.file_utils:storing https://s3.amazonaws.com/datasets.huggingface.co/personachat/personachat_self_original.json in cache at /home/joycelc/.cache/torch/transformers/a6af0e86c91c9dc9b342b96c59adf0d1a4a7dc602d94b01ad47e0bfd19266632.bb42905dd6e1098e87c24845469ee12018cfd142e10fcc50f97b28e002a9ac02\n",
      "INFO:transformers.file_utils:creating metadata file for /home/joycelc/.cache/torch/transformers/a6af0e86c91c9dc9b342b96c59adf0d1a4a7dc602d94b01ad47e0bfd19266632.bb42905dd6e1098e87c24845469ee12018cfd142e10fcc50f97b28e002a9ac02\n",
      "INFO:filelock:Lock 139858419715856 released on /home/joycelc/.cache/torch/transformers/a6af0e86c91c9dc9b342b96c59adf0d1a4a7dc602d94b01ad47e0bfd19266632.bb42905dd6e1098e87c24845469ee12018cfd142e10fcc50f97b28e002a9ac02.lock\n",
      "INFO:/home/joycelc/266-Final-Project/utils.py:Tokenize and encode the dataset\n",
      "INFO:interact.py:Selected personality: i have male pattern baldness. my mother doesn t! ove me. i'm a classicly trained chef. i have a parrot named parrot. i was born in baton rouge.\n",
      ">>> ^C\n",
      "Traceback (most recent call last):\n",
      "  File \"interact.py\", line 154, in <module>\n",
      "    run()\n",
      "  File \"interact.py\", line 140, in run\n",
      "    raw_text = input(\">>> \")\n",
      "KeyboardInterrupt\n"
     ]
    }
   ],
   "source": [
    "!python 'interact.py'"
   ]
  },
  {
   "cell_type": "code",
   "execution_count": 4,
   "metadata": {
    "id": "ClpxOEQfOWjU"
   },
   "outputs": [
    {
     "ename": "ValueError",
     "evalue": "arrays must all be same length",
     "output_type": "error",
     "traceback": [
      "\u001b[0;31m---------------------------------------------------------------------------\u001b[0m",
      "\u001b[0;31mValueError\u001b[0m                                Traceback (most recent call last)",
      "\u001b[0;32m<ipython-input-4-9e9afaa1bfae>\u001b[0m in \u001b[0;36m<module>\u001b[0;34m\u001b[0m\n\u001b[1;32m      1\u001b[0m \u001b[0;32mimport\u001b[0m \u001b[0mpandas\u001b[0m \u001b[0;32mas\u001b[0m \u001b[0mpd\u001b[0m\u001b[0;34m\u001b[0m\u001b[0;34m\u001b[0m\u001b[0m\n\u001b[0;32m----> 2\u001b[0;31m \u001b[0mseinfeld_df\u001b[0m \u001b[0;34m=\u001b[0m \u001b[0mpd\u001b[0m\u001b[0;34m.\u001b[0m\u001b[0mread_json\u001b[0m\u001b[0;34m(\u001b[0m\u001b[0;34m\"seinfeld_data.json\"\u001b[0m\u001b[0;34m)\u001b[0m\u001b[0;34m\u001b[0m\u001b[0;34m\u001b[0m\u001b[0m\n\u001b[0m",
      "\u001b[0;32m~/anaconda3/lib/python3.8/site-packages/pandas/util/_decorators.py\u001b[0m in \u001b[0;36mwrapper\u001b[0;34m(*args, **kwargs)\u001b[0m\n\u001b[1;32m    212\u001b[0m                 \u001b[0;32melse\u001b[0m\u001b[0;34m:\u001b[0m\u001b[0;34m\u001b[0m\u001b[0;34m\u001b[0m\u001b[0m\n\u001b[1;32m    213\u001b[0m                     \u001b[0mkwargs\u001b[0m\u001b[0;34m[\u001b[0m\u001b[0mnew_arg_name\u001b[0m\u001b[0;34m]\u001b[0m \u001b[0;34m=\u001b[0m \u001b[0mnew_arg_value\u001b[0m\u001b[0;34m\u001b[0m\u001b[0;34m\u001b[0m\u001b[0m\n\u001b[0;32m--> 214\u001b[0;31m             \u001b[0;32mreturn\u001b[0m \u001b[0mfunc\u001b[0m\u001b[0;34m(\u001b[0m\u001b[0;34m*\u001b[0m\u001b[0margs\u001b[0m\u001b[0;34m,\u001b[0m \u001b[0;34m**\u001b[0m\u001b[0mkwargs\u001b[0m\u001b[0;34m)\u001b[0m\u001b[0;34m\u001b[0m\u001b[0;34m\u001b[0m\u001b[0m\n\u001b[0m\u001b[1;32m    215\u001b[0m \u001b[0;34m\u001b[0m\u001b[0m\n\u001b[1;32m    216\u001b[0m         \u001b[0;32mreturn\u001b[0m \u001b[0mcast\u001b[0m\u001b[0;34m(\u001b[0m\u001b[0mF\u001b[0m\u001b[0;34m,\u001b[0m \u001b[0mwrapper\u001b[0m\u001b[0;34m)\u001b[0m\u001b[0;34m\u001b[0m\u001b[0;34m\u001b[0m\u001b[0m\n",
      "\u001b[0;32m~/anaconda3/lib/python3.8/site-packages/pandas/io/json/_json.py\u001b[0m in \u001b[0;36mread_json\u001b[0;34m(path_or_buf, orient, typ, dtype, convert_axes, convert_dates, keep_default_dates, numpy, precise_float, date_unit, encoding, lines, chunksize, compression)\u001b[0m\n\u001b[1;32m    606\u001b[0m         \u001b[0;32mreturn\u001b[0m \u001b[0mjson_reader\u001b[0m\u001b[0;34m\u001b[0m\u001b[0;34m\u001b[0m\u001b[0m\n\u001b[1;32m    607\u001b[0m \u001b[0;34m\u001b[0m\u001b[0m\n\u001b[0;32m--> 608\u001b[0;31m     \u001b[0mresult\u001b[0m \u001b[0;34m=\u001b[0m \u001b[0mjson_reader\u001b[0m\u001b[0;34m.\u001b[0m\u001b[0mread\u001b[0m\u001b[0;34m(\u001b[0m\u001b[0;34m)\u001b[0m\u001b[0;34m\u001b[0m\u001b[0;34m\u001b[0m\u001b[0m\n\u001b[0m\u001b[1;32m    609\u001b[0m     \u001b[0;32mif\u001b[0m \u001b[0mshould_close\u001b[0m\u001b[0;34m:\u001b[0m\u001b[0;34m\u001b[0m\u001b[0;34m\u001b[0m\u001b[0m\n\u001b[1;32m    610\u001b[0m         \u001b[0mfilepath_or_buffer\u001b[0m\u001b[0;34m.\u001b[0m\u001b[0mclose\u001b[0m\u001b[0;34m(\u001b[0m\u001b[0;34m)\u001b[0m\u001b[0;34m\u001b[0m\u001b[0;34m\u001b[0m\u001b[0m\n",
      "\u001b[0;32m~/anaconda3/lib/python3.8/site-packages/pandas/io/json/_json.py\u001b[0m in \u001b[0;36mread\u001b[0;34m(self)\u001b[0m\n\u001b[1;32m    729\u001b[0m             \u001b[0mobj\u001b[0m \u001b[0;34m=\u001b[0m \u001b[0mself\u001b[0m\u001b[0;34m.\u001b[0m\u001b[0m_get_object_parser\u001b[0m\u001b[0;34m(\u001b[0m\u001b[0mself\u001b[0m\u001b[0;34m.\u001b[0m\u001b[0m_combine_lines\u001b[0m\u001b[0;34m(\u001b[0m\u001b[0mdata\u001b[0m\u001b[0;34m.\u001b[0m\u001b[0msplit\u001b[0m\u001b[0;34m(\u001b[0m\u001b[0;34m\"\\n\"\u001b[0m\u001b[0;34m)\u001b[0m\u001b[0;34m)\u001b[0m\u001b[0;34m)\u001b[0m\u001b[0;34m\u001b[0m\u001b[0;34m\u001b[0m\u001b[0m\n\u001b[1;32m    730\u001b[0m         \u001b[0;32melse\u001b[0m\u001b[0;34m:\u001b[0m\u001b[0;34m\u001b[0m\u001b[0;34m\u001b[0m\u001b[0m\n\u001b[0;32m--> 731\u001b[0;31m             \u001b[0mobj\u001b[0m \u001b[0;34m=\u001b[0m \u001b[0mself\u001b[0m\u001b[0;34m.\u001b[0m\u001b[0m_get_object_parser\u001b[0m\u001b[0;34m(\u001b[0m\u001b[0mself\u001b[0m\u001b[0;34m.\u001b[0m\u001b[0mdata\u001b[0m\u001b[0;34m)\u001b[0m\u001b[0;34m\u001b[0m\u001b[0;34m\u001b[0m\u001b[0m\n\u001b[0m\u001b[1;32m    732\u001b[0m         \u001b[0mself\u001b[0m\u001b[0;34m.\u001b[0m\u001b[0mclose\u001b[0m\u001b[0;34m(\u001b[0m\u001b[0;34m)\u001b[0m\u001b[0;34m\u001b[0m\u001b[0;34m\u001b[0m\u001b[0m\n\u001b[1;32m    733\u001b[0m         \u001b[0;32mreturn\u001b[0m \u001b[0mobj\u001b[0m\u001b[0;34m\u001b[0m\u001b[0;34m\u001b[0m\u001b[0m\n",
      "\u001b[0;32m~/anaconda3/lib/python3.8/site-packages/pandas/io/json/_json.py\u001b[0m in \u001b[0;36m_get_object_parser\u001b[0;34m(self, json)\u001b[0m\n\u001b[1;32m    751\u001b[0m         \u001b[0mobj\u001b[0m \u001b[0;34m=\u001b[0m \u001b[0;32mNone\u001b[0m\u001b[0;34m\u001b[0m\u001b[0;34m\u001b[0m\u001b[0m\n\u001b[1;32m    752\u001b[0m         \u001b[0;32mif\u001b[0m \u001b[0mtyp\u001b[0m \u001b[0;34m==\u001b[0m \u001b[0;34m\"frame\"\u001b[0m\u001b[0;34m:\u001b[0m\u001b[0;34m\u001b[0m\u001b[0;34m\u001b[0m\u001b[0m\n\u001b[0;32m--> 753\u001b[0;31m             \u001b[0mobj\u001b[0m \u001b[0;34m=\u001b[0m \u001b[0mFrameParser\u001b[0m\u001b[0;34m(\u001b[0m\u001b[0mjson\u001b[0m\u001b[0;34m,\u001b[0m \u001b[0;34m**\u001b[0m\u001b[0mkwargs\u001b[0m\u001b[0;34m)\u001b[0m\u001b[0;34m.\u001b[0m\u001b[0mparse\u001b[0m\u001b[0;34m(\u001b[0m\u001b[0;34m)\u001b[0m\u001b[0;34m\u001b[0m\u001b[0;34m\u001b[0m\u001b[0m\n\u001b[0m\u001b[1;32m    754\u001b[0m \u001b[0;34m\u001b[0m\u001b[0m\n\u001b[1;32m    755\u001b[0m         \u001b[0;32mif\u001b[0m \u001b[0mtyp\u001b[0m \u001b[0;34m==\u001b[0m \u001b[0;34m\"series\"\u001b[0m \u001b[0;32mor\u001b[0m \u001b[0mobj\u001b[0m \u001b[0;32mis\u001b[0m \u001b[0;32mNone\u001b[0m\u001b[0;34m:\u001b[0m\u001b[0;34m\u001b[0m\u001b[0;34m\u001b[0m\u001b[0m\n",
      "\u001b[0;32m~/anaconda3/lib/python3.8/site-packages/pandas/io/json/_json.py\u001b[0m in \u001b[0;36mparse\u001b[0;34m(self)\u001b[0m\n\u001b[1;32m    855\u001b[0m \u001b[0;34m\u001b[0m\u001b[0m\n\u001b[1;32m    856\u001b[0m         \u001b[0;32melse\u001b[0m\u001b[0;34m:\u001b[0m\u001b[0;34m\u001b[0m\u001b[0;34m\u001b[0m\u001b[0m\n\u001b[0;32m--> 857\u001b[0;31m             \u001b[0mself\u001b[0m\u001b[0;34m.\u001b[0m\u001b[0m_parse_no_numpy\u001b[0m\u001b[0;34m(\u001b[0m\u001b[0;34m)\u001b[0m\u001b[0;34m\u001b[0m\u001b[0;34m\u001b[0m\u001b[0m\n\u001b[0m\u001b[1;32m    858\u001b[0m \u001b[0;34m\u001b[0m\u001b[0m\n\u001b[1;32m    859\u001b[0m         \u001b[0;32mif\u001b[0m \u001b[0mself\u001b[0m\u001b[0;34m.\u001b[0m\u001b[0mobj\u001b[0m \u001b[0;32mis\u001b[0m \u001b[0;32mNone\u001b[0m\u001b[0;34m:\u001b[0m\u001b[0;34m\u001b[0m\u001b[0;34m\u001b[0m\u001b[0m\n",
      "\u001b[0;32m~/anaconda3/lib/python3.8/site-packages/pandas/io/json/_json.py\u001b[0m in \u001b[0;36m_parse_no_numpy\u001b[0;34m(self)\u001b[0m\n\u001b[1;32m   1086\u001b[0m \u001b[0;34m\u001b[0m\u001b[0m\n\u001b[1;32m   1087\u001b[0m         \u001b[0;32mif\u001b[0m \u001b[0morient\u001b[0m \u001b[0;34m==\u001b[0m \u001b[0;34m\"columns\"\u001b[0m\u001b[0;34m:\u001b[0m\u001b[0;34m\u001b[0m\u001b[0;34m\u001b[0m\u001b[0m\n\u001b[0;32m-> 1088\u001b[0;31m             self.obj = DataFrame(\n\u001b[0m\u001b[1;32m   1089\u001b[0m                 \u001b[0mloads\u001b[0m\u001b[0;34m(\u001b[0m\u001b[0mjson\u001b[0m\u001b[0;34m,\u001b[0m \u001b[0mprecise_float\u001b[0m\u001b[0;34m=\u001b[0m\u001b[0mself\u001b[0m\u001b[0;34m.\u001b[0m\u001b[0mprecise_float\u001b[0m\u001b[0;34m)\u001b[0m\u001b[0;34m,\u001b[0m \u001b[0mdtype\u001b[0m\u001b[0;34m=\u001b[0m\u001b[0;32mNone\u001b[0m\u001b[0;34m\u001b[0m\u001b[0;34m\u001b[0m\u001b[0m\n\u001b[1;32m   1090\u001b[0m             )\n",
      "\u001b[0;32m~/anaconda3/lib/python3.8/site-packages/pandas/core/frame.py\u001b[0m in \u001b[0;36m__init__\u001b[0;34m(self, data, index, columns, dtype, copy)\u001b[0m\n\u001b[1;32m    433\u001b[0m             )\n\u001b[1;32m    434\u001b[0m         \u001b[0;32melif\u001b[0m \u001b[0misinstance\u001b[0m\u001b[0;34m(\u001b[0m\u001b[0mdata\u001b[0m\u001b[0;34m,\u001b[0m \u001b[0mdict\u001b[0m\u001b[0;34m)\u001b[0m\u001b[0;34m:\u001b[0m\u001b[0;34m\u001b[0m\u001b[0;34m\u001b[0m\u001b[0m\n\u001b[0;32m--> 435\u001b[0;31m             \u001b[0mmgr\u001b[0m \u001b[0;34m=\u001b[0m \u001b[0minit_dict\u001b[0m\u001b[0;34m(\u001b[0m\u001b[0mdata\u001b[0m\u001b[0;34m,\u001b[0m \u001b[0mindex\u001b[0m\u001b[0;34m,\u001b[0m \u001b[0mcolumns\u001b[0m\u001b[0;34m,\u001b[0m \u001b[0mdtype\u001b[0m\u001b[0;34m=\u001b[0m\u001b[0mdtype\u001b[0m\u001b[0;34m)\u001b[0m\u001b[0;34m\u001b[0m\u001b[0;34m\u001b[0m\u001b[0m\n\u001b[0m\u001b[1;32m    436\u001b[0m         \u001b[0;32melif\u001b[0m \u001b[0misinstance\u001b[0m\u001b[0;34m(\u001b[0m\u001b[0mdata\u001b[0m\u001b[0;34m,\u001b[0m \u001b[0mma\u001b[0m\u001b[0;34m.\u001b[0m\u001b[0mMaskedArray\u001b[0m\u001b[0;34m)\u001b[0m\u001b[0;34m:\u001b[0m\u001b[0;34m\u001b[0m\u001b[0;34m\u001b[0m\u001b[0m\n\u001b[1;32m    437\u001b[0m             \u001b[0;32mimport\u001b[0m \u001b[0mnumpy\u001b[0m\u001b[0;34m.\u001b[0m\u001b[0mma\u001b[0m\u001b[0;34m.\u001b[0m\u001b[0mmrecords\u001b[0m \u001b[0;32mas\u001b[0m \u001b[0mmrecords\u001b[0m\u001b[0;34m\u001b[0m\u001b[0;34m\u001b[0m\u001b[0m\n",
      "\u001b[0;32m~/anaconda3/lib/python3.8/site-packages/pandas/core/internals/construction.py\u001b[0m in \u001b[0;36minit_dict\u001b[0;34m(data, index, columns, dtype)\u001b[0m\n\u001b[1;32m    252\u001b[0m             \u001b[0marr\u001b[0m \u001b[0;32mif\u001b[0m \u001b[0;32mnot\u001b[0m \u001b[0mis_datetime64tz_dtype\u001b[0m\u001b[0;34m(\u001b[0m\u001b[0marr\u001b[0m\u001b[0;34m)\u001b[0m \u001b[0;32melse\u001b[0m \u001b[0marr\u001b[0m\u001b[0;34m.\u001b[0m\u001b[0mcopy\u001b[0m\u001b[0;34m(\u001b[0m\u001b[0;34m)\u001b[0m \u001b[0;32mfor\u001b[0m \u001b[0marr\u001b[0m \u001b[0;32min\u001b[0m \u001b[0marrays\u001b[0m\u001b[0;34m\u001b[0m\u001b[0;34m\u001b[0m\u001b[0m\n\u001b[1;32m    253\u001b[0m         ]\n\u001b[0;32m--> 254\u001b[0;31m     \u001b[0;32mreturn\u001b[0m \u001b[0marrays_to_mgr\u001b[0m\u001b[0;34m(\u001b[0m\u001b[0marrays\u001b[0m\u001b[0;34m,\u001b[0m \u001b[0mdata_names\u001b[0m\u001b[0;34m,\u001b[0m \u001b[0mindex\u001b[0m\u001b[0;34m,\u001b[0m \u001b[0mcolumns\u001b[0m\u001b[0;34m,\u001b[0m \u001b[0mdtype\u001b[0m\u001b[0;34m=\u001b[0m\u001b[0mdtype\u001b[0m\u001b[0;34m)\u001b[0m\u001b[0;34m\u001b[0m\u001b[0;34m\u001b[0m\u001b[0m\n\u001b[0m\u001b[1;32m    255\u001b[0m \u001b[0;34m\u001b[0m\u001b[0m\n\u001b[1;32m    256\u001b[0m \u001b[0;34m\u001b[0m\u001b[0m\n",
      "\u001b[0;32m~/anaconda3/lib/python3.8/site-packages/pandas/core/internals/construction.py\u001b[0m in \u001b[0;36marrays_to_mgr\u001b[0;34m(arrays, arr_names, index, columns, dtype)\u001b[0m\n\u001b[1;32m     62\u001b[0m     \u001b[0;31m# figure out the index, if necessary\u001b[0m\u001b[0;34m\u001b[0m\u001b[0;34m\u001b[0m\u001b[0;34m\u001b[0m\u001b[0m\n\u001b[1;32m     63\u001b[0m     \u001b[0;32mif\u001b[0m \u001b[0mindex\u001b[0m \u001b[0;32mis\u001b[0m \u001b[0;32mNone\u001b[0m\u001b[0;34m:\u001b[0m\u001b[0;34m\u001b[0m\u001b[0;34m\u001b[0m\u001b[0m\n\u001b[0;32m---> 64\u001b[0;31m         \u001b[0mindex\u001b[0m \u001b[0;34m=\u001b[0m \u001b[0mextract_index\u001b[0m\u001b[0;34m(\u001b[0m\u001b[0marrays\u001b[0m\u001b[0;34m)\u001b[0m\u001b[0;34m\u001b[0m\u001b[0;34m\u001b[0m\u001b[0m\n\u001b[0m\u001b[1;32m     65\u001b[0m     \u001b[0;32melse\u001b[0m\u001b[0;34m:\u001b[0m\u001b[0;34m\u001b[0m\u001b[0;34m\u001b[0m\u001b[0m\n\u001b[1;32m     66\u001b[0m         \u001b[0mindex\u001b[0m \u001b[0;34m=\u001b[0m \u001b[0mensure_index\u001b[0m\u001b[0;34m(\u001b[0m\u001b[0mindex\u001b[0m\u001b[0;34m)\u001b[0m\u001b[0;34m\u001b[0m\u001b[0;34m\u001b[0m\u001b[0m\n",
      "\u001b[0;32m~/anaconda3/lib/python3.8/site-packages/pandas/core/internals/construction.py\u001b[0m in \u001b[0;36mextract_index\u001b[0;34m(data)\u001b[0m\n\u001b[1;32m    363\u001b[0m             \u001b[0mlengths\u001b[0m \u001b[0;34m=\u001b[0m \u001b[0mlist\u001b[0m\u001b[0;34m(\u001b[0m\u001b[0mset\u001b[0m\u001b[0;34m(\u001b[0m\u001b[0mraw_lengths\u001b[0m\u001b[0;34m)\u001b[0m\u001b[0;34m)\u001b[0m\u001b[0;34m\u001b[0m\u001b[0;34m\u001b[0m\u001b[0m\n\u001b[1;32m    364\u001b[0m             \u001b[0;32mif\u001b[0m \u001b[0mlen\u001b[0m\u001b[0;34m(\u001b[0m\u001b[0mlengths\u001b[0m\u001b[0;34m)\u001b[0m \u001b[0;34m>\u001b[0m \u001b[0;36m1\u001b[0m\u001b[0;34m:\u001b[0m\u001b[0;34m\u001b[0m\u001b[0;34m\u001b[0m\u001b[0m\n\u001b[0;32m--> 365\u001b[0;31m                 \u001b[0;32mraise\u001b[0m \u001b[0mValueError\u001b[0m\u001b[0;34m(\u001b[0m\u001b[0;34m\"arrays must all be same length\"\u001b[0m\u001b[0;34m)\u001b[0m\u001b[0;34m\u001b[0m\u001b[0;34m\u001b[0m\u001b[0m\n\u001b[0m\u001b[1;32m    366\u001b[0m \u001b[0;34m\u001b[0m\u001b[0m\n\u001b[1;32m    367\u001b[0m             \u001b[0;32mif\u001b[0m \u001b[0mhave_dicts\u001b[0m\u001b[0;34m:\u001b[0m\u001b[0;34m\u001b[0m\u001b[0;34m\u001b[0m\u001b[0m\n",
      "\u001b[0;31mValueError\u001b[0m: arrays must all be same length"
     ]
    }
   ],
   "source": [
    "import pandas as pd\n",
    "seinfeld_df = pd.read_json(\"seinfeld_data.json\")"
   ]
  },
  {
   "cell_type": "code",
   "execution_count": null,
   "metadata": {
    "id": "-APyzglLOn5g"
   },
   "outputs": [],
   "source": [
    "breakfast_club_json = breakfast_club_df.to_json(orient=\"records\")"
   ]
  },
  {
   "cell_type": "code",
   "execution_count": null,
   "metadata": {
    "id": "91pbp_fwVICJ"
   },
   "outputs": [],
   "source": [
    "import json\n",
    "with open(\"./seinfeld_data.json\", \"r\", encoding=\"utf-8\") as f:\n",
    "    dataset = json.loads(f.read())"
   ]
  },
  {
   "cell_type": "code",
   "execution_count": null,
   "metadata": {
    "colab": {
     "base_uri": "https://localhost:8080/"
    },
    "executionInfo": {
     "elapsed": 214,
     "status": "ok",
     "timestamp": 1616909880867,
     "user": {
      "displayName": "Inderpal Kaur",
      "photoUrl": "",
      "userId": "14511468679195080108"
     },
     "user_tz": 420
    },
    "id": "z1D1DPTLVV5G",
    "outputId": "bd83a676-bff6-437d-fd06-89397b6686ea"
   },
   "outputs": [],
   "source": [
    "dataset['valid'][0]"
   ]
  },
  {
   "cell_type": "code",
   "execution_count": null,
   "metadata": {
    "id": "kX1VUAq6POfj"
   },
   "outputs": [],
   "source": [
    "print(json.dumps(json.loads(breakfast_club_json)[0], indent=2))"
   ]
  },
  {
   "cell_type": "code",
   "execution_count": 6,
   "metadata": {},
   "outputs": [],
   "source": [
    "import numpy as np"
   ]
  },
  {
   "cell_type": "code",
   "execution_count": 9,
   "metadata": {
    "colab": {
     "base_uri": "https://localhost:8080/"
    },
    "executionInfo": {
     "elapsed": 1254113,
     "status": "ok",
     "timestamp": 1617038945827,
     "user": {
      "displayName": "Inderpal Kaur",
      "photoUrl": "",
      "userId": "14511468679195080108"
     },
     "user_tz": 420
    },
    "id": "F3JvnWS5Rv8q",
    "outputId": "88817b0a-966c-4908-fd80-c1a0af2a82db"
   },
   "outputs": [
    {
     "name": "stdout",
     "output_type": "stream",
     "text": [
      "Error: mkl-service + Intel(R) MKL: MKL_THREADING_LAYER=INTEL is incompatible with libgomp-a34b3233.so.1 library.\r\n",
      "\tTry to import numpy first or set the threading layer accordingly. Set MKL_SERVICE_FORCE_INTEL to force it.\r\n"
     ]
    }
   ],
   "source": [
    "!python ./train.py --dataset_path \"./seinfeld_data.json\""
   ]
  },
  {
   "cell_type": "code",
   "execution_count": null,
   "metadata": {
    "colab": {
     "base_uri": "https://localhost:8080/"
    },
    "executionInfo": {
     "elapsed": 376973,
     "status": "ok",
     "timestamp": 1616810986144,
     "user": {
      "displayName": "Inderpal Kaur",
      "photoUrl": "",
      "userId": "14511468679195080108"
     },
     "user_tz": 420
    },
    "id": "FCPxKp0TQAST",
    "outputId": "031ce6f5-d41c-4b5f-952c-041df1f051ad"
   },
   "outputs": [],
   "source": [
    "!python ./interact.py --model_checkpoint ./runs/Mar27_01-55-15_9dea942f935b_openai-gpt/"
   ]
  },
  {
   "cell_type": "code",
   "execution_count": null,
   "metadata": {
    "id": "_R4aZWKAbAnO"
   },
   "outputs": [],
   "source": []
  }
 ],
 "metadata": {
  "accelerator": "GPU",
  "colab": {
   "authorship_tag": "ABX9TyPuTqYhdzUPxAzevNgON/ZE",
   "collapsed_sections": [],
   "name": "266_test_original_model.ipynb",
   "provenance": []
  },
  "kernelspec": {
   "display_name": "Python 3",
   "language": "python",
   "name": "python3"
  },
  "language_info": {
   "codemirror_mode": {
    "name": "ipython",
    "version": 3
   },
   "file_extension": ".py",
   "mimetype": "text/x-python",
   "name": "python",
   "nbconvert_exporter": "python",
   "pygments_lexer": "ipython3",
   "version": "3.8.3"
  }
 },
 "nbformat": 4,
 "nbformat_minor": 1
}
