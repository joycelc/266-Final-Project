{
 "cells": [
  {
   "cell_type": "code",
   "execution_count": 1,
   "metadata": {
    "id": "81SA4ILCy8zo"
   },
   "outputs": [
    {
     "name": "stdout",
     "output_type": "stream",
     "text": [
      "Requirement already satisfied: tensorflow in /home/joycelc/anaconda3/lib/python3.8/site-packages (from -r requirements.txt (line 5)) (2.3.0)\n",
      "Collecting tensorboardX==1.8\n",
      "  Downloading tensorboardX-1.8-py2.py3-none-any.whl (216 kB)\n",
      "\u001b[K     |████████████████████████████████| 216 kB 7.6 MB/s eta 0:00:01\n",
      "\u001b[?25hRequirement already satisfied: numpy in /home/joycelc/anaconda3/lib/python3.8/site-packages (from tensorboardX==1.8->-r requirements.txt (line 4)) (1.18.5)\n",
      "Requirement already satisfied: protobuf>=3.2.0 in /home/joycelc/anaconda3/lib/python3.8/site-packages (from tensorboardX==1.8->-r requirements.txt (line 4)) (3.14.0)\n",
      "Requirement already satisfied: six in /home/joycelc/anaconda3/lib/python3.8/site-packages (from tensorboardX==1.8->-r requirements.txt (line 4)) (1.15.0)\n",
      "Collecting transformers==2.5.1\n",
      "  Downloading transformers-2.5.1-py3-none-any.whl (499 kB)\n",
      "\u001b[K     |████████████████████████████████| 499 kB 11.5 MB/s eta 0:00:01\n",
      "\u001b[?25hRequirement already satisfied: regex!=2019.12.17 in /home/joycelc/anaconda3/lib/python3.8/site-packages (from transformers==2.5.1->-r requirements.txt (line 3)) (2020.6.8)\n",
      "Requirement already satisfied: tqdm>=4.27 in /home/joycelc/anaconda3/lib/python3.8/site-packages (from transformers==2.5.1->-r requirements.txt (line 3)) (4.47.0)\n",
      "Requirement already satisfied: filelock in /home/joycelc/anaconda3/lib/python3.8/site-packages (from transformers==2.5.1->-r requirements.txt (line 3)) (3.0.12)\n",
      "Requirement already satisfied: requests in /home/joycelc/anaconda3/lib/python3.8/site-packages (from transformers==2.5.1->-r requirements.txt (line 3)) (2.24.0)\n",
      "Collecting tokenizers==0.5.2\n",
      "  Downloading tokenizers-0.5.2-cp38-cp38-manylinux1_x86_64.whl (7.4 MB)\n",
      "\u001b[K     |████████████████████████████████| 7.4 MB 8.2 MB/s eta 0:00:01     |████████████████████▊           | 4.8 MB 8.2 MB/s eta 0:00:01\n",
      "\u001b[?25hCollecting pytorch-ignite\n",
      "  Downloading pytorch_ignite-0.4.4-py3-none-any.whl (200 kB)\n",
      "\u001b[K     |████████████████████████████████| 200 kB 22.1 MB/s eta 0:00:01\n",
      "\u001b[?25hCollecting torch\n",
      "  Downloading torch-1.8.1-cp38-cp38-manylinux1_x86_64.whl (804.1 MB)\n",
      "\u001b[K     |████████████████████████████████| 804.1 MB 3.1 kB/s  eta 0:00:01    |▉                               | 21.0 MB 52.2 MB/s eta 0:00:15     |██▎                             | 57.8 MB 52.2 MB/s eta 0:00:15     |███▍                            | 86.3 MB 67.9 MB/s eta 0:00:11     |████▎                           | 106.9 MB 67.9 MB/s eta 0:00:11     |██████▊                         | 168.4 MB 61.1 MB/s eta 0:00:11     |███████▎                        | 183.3 MB 66.4 MB/s eta 0:00:10     |███████▋                        | 192.1 MB 66.4 MB/s eta 0:00:10     |█████████▏                      | 229.7 MB 58.9 MB/s eta 0:00:10     |████████████▍                   | 312.2 MB 49.0 MB/s eta 0:00:11     |████████████▋                   | 317.8 MB 49.0 MB/s eta 0:00:10     |████████████▊                   | 320.5 MB 49.0 MB/s eta 0:00:10     |█████████████▋                  | 340.6 MB 69.7 MB/s eta 0:00:07     |█████████████▉                  | 346.4 MB 69.7 MB/s eta 0:00:07     |██████████████                  | 351.9 MB 69.7 MB/s eta 0:00:07     |██████████████▌                 | 363.4 MB 69.7 MB/s eta 0:00:07     |██████████████▊                 | 369.2 MB 69.7 MB/s eta 0:00:07     |███████████████▋                | 391.5 MB 66.2 MB/s eta 0:00:07     |█████████████████               | 429.8 MB 66.2 MB/s eta 0:00:06     |██████████████████▍             | 462.2 MB 63.6 MB/s eta 0:00:06     |██████████████████▋             | 467.7 MB 63.6 MB/s eta 0:00:06     |████████████████████▍           | 511.2 MB 63.7 MB/s eta 0:00:05     |█████████████████████           | 528.1 MB 1.1 MB/s eta 0:04:01     |██████████████████████▎         | 561.0 MB 1.1 MB/s eta 0:03:32     |█████████████████████████       | 630.6 MB 69.8 MB/s eta 0:00:03     |██████████████████████████      | 652.9 MB 69.8 MB/s eta 0:00:03     |███████████████████████████▋    | 694.8 MB 8.5 MB/s eta 0:00:13     |███████████████████████████▊    | 697.6 MB 8.5 MB/s eta 0:00:13     |█████████████████████████████▊  | 747.3 MB 66.5 MB/s eta 0:00:01     |██████████████████████████████▎ | 759.7 MB 66.5 MB/s eta 0:00:01     |███████████████████████████████ | 778.1 MB 60.4 MB/s eta 0:00:01\n",
      "\u001b[?25hRequirement already satisfied: typing-extensions in /home/joycelc/anaconda3/lib/python3.8/site-packages (from torch->-r requirements.txt (line 1)) (3.7.4.2)\n",
      "Collecting spacy\n",
      "  Downloading spacy-3.0.5-cp38-cp38-manylinux2014_x86_64.whl (12.9 MB)\n",
      "\u001b[K     |████████████████████████████████| 12.9 MB 45.1 MB/s eta 0:00:01     |████████████████████████████████| 12.9 MB 45.1 MB/s \n",
      "\u001b[?25hRequirement already satisfied: packaging>=20.0 in /home/joycelc/anaconda3/lib/python3.8/site-packages (from spacy->-r requirements.txt (line 6)) (20.4)\n",
      "Requirement already satisfied: jinja2 in /home/joycelc/anaconda3/lib/python3.8/site-packages (from spacy->-r requirements.txt (line 6)) (2.11.2)\n",
      "Requirement already satisfied: setuptools in /home/joycelc/anaconda3/lib/python3.8/site-packages (from spacy->-r requirements.txt (line 6)) (49.2.0.post20200714)\n",
      "Collecting blis<0.8.0,>=0.4.0\n",
      "  Downloading blis-0.7.4-cp38-cp38-manylinux2014_x86_64.whl (9.8 MB)\n",
      "\u001b[K     |████████████████████████████████| 9.8 MB 81.7 MB/s eta 0:00:01\n",
      "\u001b[?25hCollecting catalogue<2.1.0,>=2.0.1\n",
      "  Downloading catalogue-2.0.1-py3-none-any.whl (9.6 kB)\n",
      "Collecting cymem<2.1.0,>=2.0.2\n",
      "  Downloading cymem-2.0.5-cp38-cp38-manylinux2014_x86_64.whl (35 kB)\n",
      "Collecting murmurhash<1.1.0,>=0.28.0\n",
      "  Downloading murmurhash-1.0.5-cp38-cp38-manylinux2014_x86_64.whl (20 kB)\n",
      "Requirement already satisfied: pyparsing>=2.0.2 in /home/joycelc/anaconda3/lib/python3.8/site-packages (from packaging>=20.0->spacy->-r requirements.txt (line 6)) (2.4.7)\n",
      "Collecting pathy>=0.3.5\n",
      "  Downloading pathy-0.4.0-py3-none-any.whl (36 kB)\n",
      "Collecting preshed<3.1.0,>=3.0.2\n",
      "  Downloading preshed-3.0.5-cp38-cp38-manylinux2014_x86_64.whl (130 kB)\n",
      "\u001b[K     |████████████████████████████████| 130 kB 82.0 MB/s eta 0:00:01\n",
      "\u001b[?25hCollecting pydantic<1.8.0,>=1.7.1\n",
      "  Downloading pydantic-1.7.3-cp38-cp38-manylinux2014_x86_64.whl (12.2 MB)\n",
      "\u001b[K     |████████████████████████████████| 12.2 MB 15.5 MB/s eta 0:00:01     |████████████████████████████████| 12.2 MB 15.5 MB/s \n",
      "\u001b[?25hRequirement already satisfied: chardet<4,>=3.0.2 in /home/joycelc/anaconda3/lib/python3.8/site-packages (from requests->transformers==2.5.1->-r requirements.txt (line 3)) (3.0.4)\n",
      "Requirement already satisfied: urllib3!=1.25.0,!=1.25.1,<1.26,>=1.21.1 in /home/joycelc/anaconda3/lib/python3.8/site-packages (from requests->transformers==2.5.1->-r requirements.txt (line 3)) (1.25.9)\n",
      "Requirement already satisfied: certifi>=2017.4.17 in /home/joycelc/anaconda3/lib/python3.8/site-packages (from requests->transformers==2.5.1->-r requirements.txt (line 3)) (2020.6.20)\n",
      "Requirement already satisfied: idna<3,>=2.5 in /home/joycelc/anaconda3/lib/python3.8/site-packages (from requests->transformers==2.5.1->-r requirements.txt (line 3)) (2.10)\n",
      "Collecting smart-open<4.0.0,>=2.2.0\n",
      "  Downloading smart_open-3.0.0.tar.gz (113 kB)\n",
      "\u001b[K     |████████████████████████████████| 113 kB 79.4 MB/s eta 0:00:01\n",
      "\u001b[?25hCollecting spacy-legacy<3.1.0,>=3.0.0\n",
      "  Downloading spacy_legacy-3.0.1-py2.py3-none-any.whl (7.0 kB)\n",
      "Collecting srsly<3.0.0,>=2.4.0\n",
      "  Downloading srsly-2.4.0-cp38-cp38-manylinux2014_x86_64.whl (458 kB)\n",
      "\u001b[K     |████████████████████████████████| 458 kB 15.3 MB/s eta 0:00:01\n",
      "\u001b[?25hCollecting thinc<8.1.0,>=8.0.2\n",
      "  Downloading thinc-8.0.2-cp38-cp38-manylinux2014_x86_64.whl (1.1 MB)\n",
      "\u001b[K     |████████████████████████████████| 1.1 MB 10.3 MB/s eta 0:00:01\n",
      "\u001b[?25hCollecting typer<0.4.0,>=0.3.0\n",
      "  Downloading typer-0.3.2-py3-none-any.whl (21 kB)\n",
      "Requirement already satisfied: click<7.2.0,>=7.1.1 in /home/joycelc/anaconda3/lib/python3.8/site-packages (from typer<0.4.0,>=0.3.0->spacy->-r requirements.txt (line 6)) (7.1.2)\n",
      "Collecting wasabi<1.1.0,>=0.8.1\n",
      "  Downloading wasabi-0.8.2-py3-none-any.whl (23 kB)\n",
      "Requirement already satisfied: astunparse==1.6.3 in /home/joycelc/anaconda3/lib/python3.8/site-packages (from tensorflow->-r requirements.txt (line 5)) (1.6.3)\n",
      "Requirement already satisfied: google-pasta>=0.1.8 in /home/joycelc/anaconda3/lib/python3.8/site-packages (from tensorflow->-r requirements.txt (line 5)) (0.2.0)\n",
      "Requirement already satisfied: tensorboard<3,>=2.3.0 in /home/joycelc/anaconda3/lib/python3.8/site-packages (from tensorflow->-r requirements.txt (line 5)) (2.4.0)\n",
      "Requirement already satisfied: keras-preprocessing<1.2,>=1.1.1 in /home/joycelc/anaconda3/lib/python3.8/site-packages (from tensorflow->-r requirements.txt (line 5)) (1.1.2)\n",
      "Requirement already satisfied: h5py<2.11.0,>=2.10.0 in /home/joycelc/anaconda3/lib/python3.8/site-packages (from tensorflow->-r requirements.txt (line 5)) (2.10.0)\n",
      "Requirement already satisfied: wheel>=0.26 in /home/joycelc/anaconda3/lib/python3.8/site-packages (from tensorflow->-r requirements.txt (line 5)) (0.34.2)\n",
      "Requirement already satisfied: absl-py>=0.7.0 in /home/joycelc/anaconda3/lib/python3.8/site-packages (from tensorflow->-r requirements.txt (line 5)) (0.11.0)\n",
      "Requirement already satisfied: termcolor>=1.1.0 in /home/joycelc/anaconda3/lib/python3.8/site-packages (from tensorflow->-r requirements.txt (line 5)) (1.1.0)\n",
      "Requirement already satisfied: wrapt>=1.11.1 in /home/joycelc/anaconda3/lib/python3.8/site-packages (from tensorflow->-r requirements.txt (line 5)) (1.11.2)\n",
      "Requirement already satisfied: scipy==1.4.1 in /home/joycelc/anaconda3/lib/python3.8/site-packages (from tensorflow->-r requirements.txt (line 5)) (1.4.1)\n",
      "Requirement already satisfied: grpcio>=1.8.6 in /home/joycelc/anaconda3/lib/python3.8/site-packages (from tensorflow->-r requirements.txt (line 5)) (1.34.0)\n",
      "Requirement already satisfied: opt-einsum>=2.3.2 in /home/joycelc/anaconda3/lib/python3.8/site-packages (from tensorflow->-r requirements.txt (line 5)) (3.3.0)\n",
      "Requirement already satisfied: tensorflow-estimator<2.4.0,>=2.3.0 in /home/joycelc/anaconda3/lib/python3.8/site-packages (from tensorflow->-r requirements.txt (line 5)) (2.3.0)\n",
      "Requirement already satisfied: gast==0.3.3 in /home/joycelc/anaconda3/lib/python3.8/site-packages (from tensorflow->-r requirements.txt (line 5)) (0.3.3)\n"
     ]
    },
    {
     "name": "stdout",
     "output_type": "stream",
     "text": [
      "Requirement already satisfied: google-auth<2,>=1.6.3 in /home/joycelc/anaconda3/lib/python3.8/site-packages (from tensorboard<3,>=2.3.0->tensorflow->-r requirements.txt (line 5)) (1.24.0)\n",
      "Requirement already satisfied: werkzeug>=0.11.15 in /home/joycelc/anaconda3/lib/python3.8/site-packages (from tensorboard<3,>=2.3.0->tensorflow->-r requirements.txt (line 5)) (1.0.1)\n",
      "Requirement already satisfied: tensorboard-plugin-wit>=1.6.0 in /home/joycelc/anaconda3/lib/python3.8/site-packages (from tensorboard<3,>=2.3.0->tensorflow->-r requirements.txt (line 5)) (1.7.0)\n",
      "Requirement already satisfied: markdown>=2.6.8 in /home/joycelc/anaconda3/lib/python3.8/site-packages (from tensorboard<3,>=2.3.0->tensorflow->-r requirements.txt (line 5)) (3.3.3)\n",
      "Requirement already satisfied: google-auth-oauthlib<0.5,>=0.4.1 in /home/joycelc/anaconda3/lib/python3.8/site-packages (from tensorboard<3,>=2.3.0->tensorflow->-r requirements.txt (line 5)) (0.4.2)\n",
      "Requirement already satisfied: pyasn1-modules>=0.2.1 in /home/joycelc/anaconda3/lib/python3.8/site-packages (from google-auth<2,>=1.6.3->tensorboard<3,>=2.3.0->tensorflow->-r requirements.txt (line 5)) (0.2.8)\n",
      "Requirement already satisfied: cachetools<5.0,>=2.0.0 in /home/joycelc/anaconda3/lib/python3.8/site-packages (from google-auth<2,>=1.6.3->tensorboard<3,>=2.3.0->tensorflow->-r requirements.txt (line 5)) (4.2.0)\n",
      "Requirement already satisfied: rsa<5,>=3.1.4 in /home/joycelc/anaconda3/lib/python3.8/site-packages (from google-auth<2,>=1.6.3->tensorboard<3,>=2.3.0->tensorflow->-r requirements.txt (line 5)) (4.6)\n",
      "Requirement already satisfied: requests-oauthlib>=0.7.0 in /home/joycelc/anaconda3/lib/python3.8/site-packages (from google-auth-oauthlib<0.5,>=0.4.1->tensorboard<3,>=2.3.0->tensorflow->-r requirements.txt (line 5)) (1.3.0)\n",
      "Requirement already satisfied: pyasn1<0.5.0,>=0.4.6 in /home/joycelc/anaconda3/lib/python3.8/site-packages (from pyasn1-modules>=0.2.1->google-auth<2,>=1.6.3->tensorboard<3,>=2.3.0->tensorflow->-r requirements.txt (line 5)) (0.4.8)\n",
      "Requirement already satisfied: oauthlib>=3.0.0 in /home/joycelc/anaconda3/lib/python3.8/site-packages (from requests-oauthlib>=0.7.0->google-auth-oauthlib<0.5,>=0.4.1->tensorboard<3,>=2.3.0->tensorflow->-r requirements.txt (line 5)) (3.1.0)\n",
      "Collecting boto3\n",
      "  Downloading boto3-1.17.39-py2.py3-none-any.whl (131 kB)\n",
      "\u001b[K     |████████████████████████████████| 131 kB 85.4 MB/s eta 0:00:01\n",
      "\u001b[?25hCollecting botocore<1.21.0,>=1.20.39\n",
      "  Downloading botocore-1.20.39-py2.py3-none-any.whl (7.3 MB)\n",
      "\u001b[K     |████████████████████████████████| 7.3 MB 77.7 MB/s eta 0:00:01\n",
      "\u001b[?25hRequirement already satisfied: python-dateutil<3.0.0,>=2.1 in /home/joycelc/anaconda3/lib/python3.8/site-packages (from botocore<1.21.0,>=1.20.39->boto3->transformers==2.5.1->-r requirements.txt (line 3)) (2.8.1)\n",
      "Collecting jmespath<1.0.0,>=0.7.1\n",
      "  Downloading jmespath-0.10.0-py2.py3-none-any.whl (24 kB)\n",
      "Collecting s3transfer<0.4.0,>=0.3.0\n",
      "  Downloading s3transfer-0.3.6-py2.py3-none-any.whl (73 kB)\n",
      "\u001b[K     |████████████████████████████████| 73 kB 2.0 MB/s  eta 0:00:01\n",
      "\u001b[?25hRequirement already satisfied: MarkupSafe>=0.23 in /home/joycelc/anaconda3/lib/python3.8/site-packages (from jinja2->spacy->-r requirements.txt (line 6)) (1.1.1)\n",
      "Collecting sacremoses\n",
      "  Downloading sacremoses-0.0.43.tar.gz (883 kB)\n",
      "\u001b[K     |████████████████████████████████| 883 kB 73.6 MB/s eta 0:00:01\n",
      "\u001b[?25hRequirement already satisfied: joblib in /home/joycelc/anaconda3/lib/python3.8/site-packages (from sacremoses->transformers==2.5.1->-r requirements.txt (line 3)) (0.16.0)\n",
      "Collecting sentencepiece\n",
      "  Downloading sentencepiece-0.1.95-cp38-cp38-manylinux2014_x86_64.whl (1.2 MB)\n",
      "\u001b[K     |████████████████████████████████| 1.2 MB 48.1 MB/s eta 0:00:01\n",
      "\u001b[?25hBuilding wheels for collected packages: smart-open, sacremoses\n",
      "  Building wheel for smart-open (setup.py) ... \u001b[?25ldone\n",
      "\u001b[?25h  Created wheel for smart-open: filename=smart_open-3.0.0-py3-none-any.whl size=107097 sha256=527c5685f2eb1885b7e8878320631a1b3a0b4e3a9f645fd37ec176757a47bba4\n",
      "  Stored in directory: /home/joycelc/.cache/pip/wheels/11/73/9a/f91ac1f1816436b16423617c5be5db048697ff152a9c4346f2\n",
      "  Building wheel for sacremoses (setup.py) ... \u001b[?25ldone\n",
      "\u001b[?25h  Created wheel for sacremoses: filename=sacremoses-0.0.43-py3-none-any.whl size=893259 sha256=7af4c5951d8e2383c0f4ca9402911ff581a8e086bdd0d4ab86fca78d2540f96b\n",
      "  Stored in directory: /home/joycelc/.cache/pip/wheels/7b/78/f4/27d43a65043e1b75dbddaa421b573eddc67e712be4b1c80677\n",
      "Successfully built smart-open sacremoses\n",
      "Installing collected packages: jmespath, murmurhash, cymem, catalogue, botocore, wasabi, typer, srsly, smart-open, s3transfer, pydantic, preshed, blis, torch, tokenizers, thinc, spacy-legacy, sentencepiece, sacremoses, pathy, boto3, transformers, tensorboardX, spacy, pytorch-ignite\n",
      "Successfully installed blis-0.7.4 boto3-1.17.39 botocore-1.20.39 catalogue-2.0.1 cymem-2.0.5 jmespath-0.10.0 murmurhash-1.0.5 pathy-0.4.0 preshed-3.0.5 pydantic-1.7.3 pytorch-ignite-0.4.4 s3transfer-0.3.6 sacremoses-0.0.43 sentencepiece-0.1.95 smart-open-3.0.0 spacy-3.0.5 spacy-legacy-3.0.1 srsly-2.4.0 tensorboardX-1.8 thinc-8.0.2 tokenizers-0.5.2 torch-1.8.1 transformers-2.5.1 typer-0.3.2 wasabi-0.8.2\n",
      "\u001b[33mWARNING: You are using pip version 20.3.3; however, version 21.0.1 is available.\n",
      "You should consider upgrading via the '/home/joycelc/anaconda3/bin/python -m pip install --upgrade pip' command.\u001b[0m\n"
     ]
    }
   ],
   "source": [
    "!pip install -r requirements.txt"
   ]
  },
  {
   "cell_type": "code",
   "execution_count": null,
   "metadata": {
    "id": "oHH-YLsX0-Mw"
   },
   "outputs": [
    {
     "name": "stdout",
     "output_type": "stream",
     "text": [
      "2021-03-29 18:14:32.334093: W tensorflow/stream_executor/platform/default/dso_loader.cc:59] Could not load dynamic library 'libcudart.so.10.1'; dlerror: libcudart.so.10.1: cannot open shared object file: No such file or directory\n",
      "2021-03-29 18:14:32.334223: I tensorflow/stream_executor/cuda/cudart_stub.cc:29] Ignore above cudart dlerror if you do not have a GPU set up on your machine.\n",
      "INFO:interact.py:Namespace(dataset_cache='./dataset_cache', dataset_path='', device='cpu', max_history=2, max_length=20, min_length=1, model='openai-gpt', model_checkpoint='', no_sample=False, seed=0, temperature=0.7, top_k=0, top_p=0.9)\n",
      "INFO:filelock:Lock 139858508041280 acquired on /home/joycelc/.cache/torch/transformers/2f5114b5eb72f9515802779c42c1b289bebdb1cfc8ce94c653237518eb530b34.75f2a4fe69178ff43138117a977e107a5fc7d402603a0825a296b531f246b3f2.lock\n",
      "INFO:transformers.file_utils:https://s3.amazonaws.com/models.huggingface.co/transfer-learning-chatbot/gpt_personachat_cache.tar.gz not found in cache or force_download set to True, downloading to /home/joycelc/.cache/torch/transformers/tmp692n85hn\n",
      "Downloading:  97%|██████████████████████████▎| 422M/434M [00:11<00:00, 29.1MB/s]"
     ]
    }
   ],
   "source": [
    "!python 'interact.py'"
   ]
  },
  {
   "cell_type": "code",
   "execution_count": null,
   "metadata": {
    "id": "ClpxOEQfOWjU"
   },
   "outputs": [],
   "source": [
    "import pandas as pd\n",
    "seinfeld_df = pd.read_json(\"seinfeld_data.json\")"
   ]
  },
  {
   "cell_type": "code",
   "execution_count": null,
   "metadata": {
    "id": "-APyzglLOn5g"
   },
   "outputs": [],
   "source": [
    "breakfast_club_json = breakfast_club_df.to_json(orient=\"records\")"
   ]
  },
  {
   "cell_type": "code",
   "execution_count": null,
   "metadata": {
    "id": "91pbp_fwVICJ"
   },
   "outputs": [],
   "source": [
    "import json\n",
    "with open(\"./seinfeld_data.json\", \"r\", encoding=\"utf-8\") as f:\n",
    "    dataset = json.loads(f.read())"
   ]
  },
  {
   "cell_type": "code",
   "execution_count": null,
   "metadata": {
    "colab": {
     "base_uri": "https://localhost:8080/"
    },
    "executionInfo": {
     "elapsed": 214,
     "status": "ok",
     "timestamp": 1616909880867,
     "user": {
      "displayName": "Inderpal Kaur",
      "photoUrl": "",
      "userId": "14511468679195080108"
     },
     "user_tz": 420
    },
    "id": "z1D1DPTLVV5G",
    "outputId": "bd83a676-bff6-437d-fd06-89397b6686ea"
   },
   "outputs": [],
   "source": [
    "dataset['valid'][0]"
   ]
  },
  {
   "cell_type": "code",
   "execution_count": null,
   "metadata": {
    "id": "kX1VUAq6POfj"
   },
   "outputs": [],
   "source": [
    "print(json.dumps(json.loads(breakfast_club_json)[0], indent=2))"
   ]
  },
  {
   "cell_type": "code",
   "execution_count": null,
   "metadata": {
    "colab": {
     "base_uri": "https://localhost:8080/"
    },
    "executionInfo": {
     "elapsed": 1254113,
     "status": "ok",
     "timestamp": 1617038945827,
     "user": {
      "displayName": "Inderpal Kaur",
      "photoUrl": "",
      "userId": "14511468679195080108"
     },
     "user_tz": 420
    },
    "id": "F3JvnWS5Rv8q",
    "outputId": "88817b0a-966c-4908-fd80-c1a0af2a82db"
   },
   "outputs": [],
   "source": [
    "!python ./train.py --dataset_path \"./seinfeld_data-3.json\""
   ]
  },
  {
   "cell_type": "code",
   "execution_count": null,
   "metadata": {
    "colab": {
     "base_uri": "https://localhost:8080/"
    },
    "executionInfo": {
     "elapsed": 376973,
     "status": "ok",
     "timestamp": 1616810986144,
     "user": {
      "displayName": "Inderpal Kaur",
      "photoUrl": "",
      "userId": "14511468679195080108"
     },
     "user_tz": 420
    },
    "id": "FCPxKp0TQAST",
    "outputId": "031ce6f5-d41c-4b5f-952c-041df1f051ad"
   },
   "outputs": [],
   "source": [
    "!python ./interact.py --model_checkpoint ./runs/Mar27_01-55-15_9dea942f935b_openai-gpt/"
   ]
  },
  {
   "cell_type": "code",
   "execution_count": null,
   "metadata": {
    "id": "_R4aZWKAbAnO"
   },
   "outputs": [],
   "source": []
  }
 ],
 "metadata": {
  "accelerator": "GPU",
  "colab": {
   "authorship_tag": "ABX9TyPuTqYhdzUPxAzevNgON/ZE",
   "collapsed_sections": [],
   "name": "266_test_original_model.ipynb",
   "provenance": []
  },
  "kernelspec": {
   "display_name": "Python 3",
   "language": "python",
   "name": "python3"
  },
  "language_info": {
   "codemirror_mode": {
    "name": "ipython",
    "version": 3
   },
   "file_extension": ".py",
   "mimetype": "text/x-python",
   "name": "python",
   "nbconvert_exporter": "python",
   "pygments_lexer": "ipython3",
   "version": "3.8.3"
  }
 },
 "nbformat": 4,
 "nbformat_minor": 1
}
